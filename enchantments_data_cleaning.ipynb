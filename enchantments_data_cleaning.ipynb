{
 "cells": [
  {
   "cell_type": "code",
   "execution_count": 391,
   "metadata": {},
   "outputs": [],
   "source": [
    "import tabula\n",
    "import pandas as pd\n",
    "import re"
   ]
  },
  {
   "cell_type": "code",
   "execution_count": 473,
   "metadata": {},
   "outputs": [],
   "source": [
    "# Read pdf into a list of DataFrame\n",
    "dfs = tabula.read_pdf(\"2021_enchantments_lottery_stats.pdf\", lattice=True, pages='all')"
   ]
  },
  {
   "cell_type": "code",
   "execution_count": 474,
   "metadata": {},
   "outputs": [],
   "source": [
    "column_set = []\n",
    "for df in dfs:\n",
    "#     print(df.shape)\n",
    "    if 'Unnamed: 0' in df.columns:\n",
    "        df.columns = df.iloc[0]\n",
    "#         print('replaced')\n",
    "    if list(df.columns) not in column_set:\n",
    "        column_set.append(list(df.columns))"
   ]
  },
  {
   "cell_type": "code",
   "execution_count": 475,
   "metadata": {},
   "outputs": [
    {
     "data": {
      "text/plain": [
       "17"
      ]
     },
     "execution_count": 475,
     "metadata": {},
     "output_type": "execute_result"
    }
   ],
   "source": [
    "len(column_set[0]) # only continue if column_set is just one set of the right columns"
   ]
  },
  {
   "cell_type": "code",
   "execution_count": 595,
   "metadata": {},
   "outputs": [],
   "source": [
    "merged = pd.concat(dfs)"
   ]
  },
  {
   "cell_type": "code",
   "execution_count": 596,
   "metadata": {},
   "outputs": [
    {
     "data": {
      "text/plain": [
       "(58466, 17)"
      ]
     },
     "execution_count": 596,
     "metadata": {},
     "output_type": "execute_result"
    }
   ],
   "source": [
    "merged.shape"
   ]
  },
  {
   "cell_type": "code",
   "execution_count": 597,
   "metadata": {},
   "outputs": [
    {
     "data": {
      "text/plain": [
       "Index(['Preferred Entry\\rDate 1', 'Preferred Division 1',\n",
       "       'Minimum\\rAcceptable\\rGroup Size 1', 'Maximum\\rRequested\\rGroup Size 1',\n",
       "       'Preferred Entry Date 2', 'Preferred Division 2',\n",
       "       'Minimum\\rAcceptable\\rGroup Size 2', 'Maximum\\rRequested Group\\rSize 2',\n",
       "       'Preferred Entry Date\\r3', 'Preferred Division 3',\n",
       "       'Minimum\\rAcceptable\\rGroup Size 3', 'Maximum\\rRequested\\rGroup Size 3',\n",
       "       'Results Status', 'Awarded\\rPreference', 'Awarded Entry\\rDate',\n",
       "       'Awarded\\rEntrance\\rCode/Name', 'Awarded\\rGroup Size'],\n",
       "      dtype='object', name=0)"
      ]
     },
     "execution_count": 597,
     "metadata": {},
     "output_type": "execute_result"
    }
   ],
   "source": [
    "merged.columns"
   ]
  },
  {
   "cell_type": "code",
   "execution_count": 598,
   "metadata": {},
   "outputs": [
    {
     "data": {
      "text/plain": [
       "0\n",
       "Preferred Entry\\rDate 1              True\n",
       "Preferred Division 1                 True\n",
       "Minimum\\rAcceptable\\rGroup Size 1    True\n",
       "Maximum\\rRequested\\rGroup Size 1     True\n",
       "Preferred Entry Date 2               True\n",
       "Preferred Division 2                 True\n",
       "Minimum\\rAcceptable\\rGroup Size 2    True\n",
       "Maximum\\rRequested Group\\rSize 2     True\n",
       "Preferred Entry Date\\r3              True\n",
       "Preferred Division 3                 True\n",
       "Minimum\\rAcceptable\\rGroup Size 3    True\n",
       "Maximum\\rRequested\\rGroup Size 3     True\n",
       "Results Status                       True\n",
       "Awarded\\rPreference                  True\n",
       "Awarded Entry\\rDate                  True\n",
       "Awarded\\rEntrance\\rCode/Name         True\n",
       "Awarded\\rGroup Size                  True\n",
       "Name: 0, dtype: bool"
      ]
     },
     "execution_count": 598,
     "metadata": {},
     "output_type": "execute_result"
    }
   ],
   "source": [
    "merged.iloc[0] == merged.columns"
   ]
  },
  {
   "cell_type": "code",
   "execution_count": 599,
   "metadata": {},
   "outputs": [],
   "source": [
    "df = merged.mask((merged == merged.columns)).dropna(how='all')"
   ]
  },
  {
   "cell_type": "code",
   "execution_count": 600,
   "metadata": {},
   "outputs": [
    {
     "data": {
      "text/plain": [
       "514"
      ]
     },
     "execution_count": 600,
     "metadata": {},
     "output_type": "execute_result"
    }
   ],
   "source": [
    "merged.shape[0] - df.shape[0]"
   ]
  },
  {
   "cell_type": "code",
   "execution_count": 601,
   "metadata": {},
   "outputs": [],
   "source": [
    "df.columns = [r.replace('\\r',' ') for r in list(df.columns)]"
   ]
  },
  {
   "cell_type": "code",
   "execution_count": 602,
   "metadata": {},
   "outputs": [
    {
     "data": {
      "text/plain": [
       "['Preferred Entry Date 1',\n",
       " 'Preferred Division 1',\n",
       " 'Minimum Acceptable Group Size 1',\n",
       " 'Maximum Requested Group Size 1',\n",
       " 'Preferred Entry Date 2',\n",
       " 'Preferred Division 2',\n",
       " 'Minimum Acceptable Group Size 2',\n",
       " 'Maximum Requested Group Size 2',\n",
       " 'Preferred Entry Date 3',\n",
       " 'Preferred Division 3',\n",
       " 'Minimum Acceptable Group Size 3',\n",
       " 'Maximum Requested Group Size 3',\n",
       " 'Results Status',\n",
       " 'Awarded Preference',\n",
       " 'Awarded Entry Date',\n",
       " 'Awarded Entrance Code/Name',\n",
       " 'Awarded Group Size']"
      ]
     },
     "execution_count": 602,
     "metadata": {},
     "output_type": "execute_result"
    }
   ],
   "source": [
    "list(df.columns)"
   ]
  },
  {
   "cell_type": "code",
   "execution_count": 603,
   "metadata": {},
   "outputs": [],
   "source": [
    "df = df.reindex()"
   ]
  },
  {
   "cell_type": "code",
   "execution_count": 604,
   "metadata": {},
   "outputs": [],
   "source": [
    "def clean_numeric(x):\n",
    "    try:\n",
    "        x = int(x)\n",
    "#         print(x)\n",
    "    except:\n",
    "#         print(\"nope\")\n",
    "        pass\n",
    "    finally:\n",
    "        x = str(x)\n",
    "    new_x = filter(str.isdigit, x)\n",
    "    new_x = \"\".join(new_x)\n",
    "    return new_x"
   ]
  },
  {
   "cell_type": "code",
   "execution_count": 605,
   "metadata": {},
   "outputs": [],
   "source": [
    "def clean_zone_name(x):\n",
    "    replacement_awarded_entrance = {'Enchantment Z': 'Core Enchantment Zone',\n",
    "                    'tmile/Caroline Z': 'Eightmile/Caroline Zone',\n",
    "                    'e/Caroline Zone': 'Eightmile/Caroline Zone (stock)',\n",
    "                    'uart Zone (stoc': 'Stuart Zone (stock)',\n",
    "                    'Eightmile/Caroline Zone (s': 'Eightmile/Caroline Zone (stock)',\n",
    "                    'Eightmile/Caroline Zone (st': 'Eightmile/Caroline Zone (stock)'}\n",
    "    try:\n",
    "        new_x = replacement_awarded_entrance[x]\n",
    "    except:\n",
    "        new_x = x\n",
    "    return new_x"
   ]
  },
  {
   "cell_type": "code",
   "execution_count": 606,
   "metadata": {},
   "outputs": [],
   "source": [
    "def clean_date(x):\n",
    "    try:\n",
    "        new_x = re.sub('[^0-9/]+', '', x)\n",
    "    except:\n",
    "        new_x = x\n",
    "    return new_x"
   ]
  },
  {
   "cell_type": "code",
   "execution_count": 607,
   "metadata": {},
   "outputs": [
    {
     "name": "stdout",
     "output_type": "stream",
     "text": [
      "Preferred Entry Date 1\n",
      "\n",
      "cleaning dates!\n",
      "8/6/21      1211\n",
      "8/5/21      1084\n",
      "8/13/21     1026\n",
      "7/22/21     1018\n",
      "8/12/21      936\n",
      "            ... \n",
      "10/26/21       2\n",
      "10/24/21       2\n",
      "10/19/21       1\n",
      "10/21/21       1\n",
      "10/27/21       1\n",
      "Name: Preferred Entry Date 1, Length: 167, dtype: int64\n",
      "\n",
      "Preferred Division 1\n",
      "\n",
      "cleaning zone names!\n",
      "Core Enchantment Zone              42530\n",
      "Colchuck Zone                       7249\n",
      "Snow Zone                           4480\n",
      "Stuart  Zone                        2786\n",
      "Eightmile/Caroline Zone              804\n",
      "Eightmile/Caroline Zone (stock)       52\n",
      "Stuart Zone (stock)                   51\n",
      "Name: Preferred Division 1, dtype: int64\n",
      "\n",
      "Minimum Acceptable Group Size 1\n",
      "\n",
      "cleaning numeric!\n",
      "4    16131\n",
      "8    13554\n",
      "6    10352\n",
      "2     9317\n",
      "5     4126\n",
      "3     3253\n",
      "7      702\n",
      "1      517\n",
      "Name: Minimum Acceptable Group Size 1, dtype: int64\n",
      "\n",
      "Maximum Requested Group Size 1\n",
      "\n",
      "cleaning numeric!\n",
      "4    16131\n",
      "8    13554\n",
      "6    10352\n",
      "2     9317\n",
      "5     4126\n",
      "3     3253\n",
      "7      702\n",
      "1      517\n",
      "Name: Maximum Requested Group Size 1, dtype: int64\n",
      "\n",
      "Preferred Entry Date 2\n",
      "\n",
      "cleaning dates!\n",
      "8/13/21     1279\n",
      "8/20/21     1088\n",
      "8/12/21     1076\n",
      "8/19/21     1025\n",
      "8/6/21      1000\n",
      "            ... \n",
      "10/26/21       6\n",
      "10/19/21       3\n",
      "10/24/21       3\n",
      "10/21/21       2\n",
      "10/25/21       1\n",
      "Name: Preferred Entry Date 2, Length: 166, dtype: int64\n",
      "\n",
      "Preferred Division 2\n",
      "\n",
      "cleaning zone names!\n",
      "Core Enchantment Zone              35296\n",
      "Colchuck Zone                      10241\n",
      "Snow Zone                           6742\n",
      "Stuart  Zone                        3489\n",
      "Eightmile/Caroline Zone             1297\n",
      "Stuart Zone (stock)                  117\n",
      "Eightmile/Caroline Zone (stock)      105\n",
      "Name: Preferred Division 2, dtype: int64\n",
      "\n",
      "Minimum Acceptable Group Size 2\n",
      "\n",
      "cleaning numeric!\n",
      "4    15852\n",
      "8    13244\n",
      "6    10359\n",
      "2     9279\n",
      "5     4056\n",
      "3     3267\n",
      "7      704\n",
      "       665\n",
      "1      526\n",
      "Name: Minimum Acceptable Group Size 2, dtype: int64\n",
      "\n",
      "Maximum Requested Group Size 2\n",
      "\n",
      "cleaning numeric!\n",
      "4    15852\n",
      "8    13244\n",
      "6    10359\n",
      "2     9279\n",
      "5     4056\n",
      "3     3267\n",
      "7      704\n",
      "       665\n",
      "1      526\n",
      "Name: Maximum Requested Group Size 2, dtype: int64\n",
      "\n",
      "Preferred Entry Date 3\n",
      "\n",
      "cleaning dates!\n",
      "8/20/21     1104\n",
      "8/26/21     1059\n",
      "8/19/21     1021\n",
      "8/12/21      999\n",
      "8/27/21      960\n",
      "            ... \n",
      "10/28/21       4\n",
      "10/25/21       4\n",
      "10/31/21       4\n",
      "10/29/21       3\n",
      "10/30/21       2\n",
      "Name: Preferred Entry Date 3, Length: 170, dtype: int64\n",
      "\n",
      "Preferred Division 3\n",
      "\n",
      "cleaning zone names!\n",
      "Core Enchantment Zone              32991\n",
      "Colchuck Zone                       9529\n",
      "Snow Zone                           7659\n",
      "Stuart  Zone                        4053\n",
      "Eightmile/Caroline Zone             1763\n",
      "Eightmile/Caroline Zone (stock)      205\n",
      "Stuart Zone (stock)                  121\n",
      "Name: Preferred Division 3, dtype: int64\n",
      "\n",
      "Minimum Acceptable Group Size 3\n",
      "\n",
      "cleaning numeric!\n",
      "4    15499\n",
      "8    13173\n",
      "6    10049\n",
      "2     9180\n",
      "5     3983\n",
      "3     3244\n",
      "      1631\n",
      "7      661\n",
      "1      532\n",
      "Name: Minimum Acceptable Group Size 3, dtype: int64\n",
      "\n",
      "Maximum Requested Group Size 3\n",
      "\n",
      "cleaning numeric!\n",
      "4    15499\n",
      "8    13173\n",
      "6    10049\n",
      "2     9180\n",
      "5     3983\n",
      "3     3244\n",
      "      1631\n",
      "7      661\n",
      "1      532\n",
      "Name: Maximum Requested Group Size 3, dtype: int64\n",
      "\n",
      "Results Status\n",
      "\n",
      "Unsuccessful    53405\n",
      "Accepted         3199\n",
      "Cancelled         708\n",
      "No Response       544\n",
      "Declined           96\n",
      "Name: Results Status, dtype: int64\n",
      "\n",
      "Awarded Preference\n",
      "\n",
      "cleaning numeric!\n",
      "     54113\n",
      "1     1871\n",
      "2     1020\n",
      "3      948\n",
      "Name: Awarded Preference, dtype: int64\n",
      "\n",
      "Awarded Entry Date\n",
      "\n",
      "cleaning dates!\n",
      "6/13/21     35\n",
      "7/25/21     34\n",
      "6/27/21     34\n",
      "8/29/21     33\n",
      "8/15/21     33\n",
      "            ..\n",
      "10/30/21     7\n",
      "10/27/21     6\n",
      "10/29/21     5\n",
      "10/25/21     4\n",
      "10/28/21     3\n",
      "Name: Awarded Entry Date, Length: 169, dtype: int64\n",
      "\n",
      "Awarded Entrance Code/Name\n",
      "\n",
      "cleaning zone names!\n",
      "Core Enchantment Zone              1059\n",
      "Snow Zone                           948\n",
      "Stuart  Zone                        752\n",
      "Colchuck Zone                       569\n",
      "Eightmile/Caroline Zone             466\n",
      "Eightmile/Caroline Zone (stock)      25\n",
      "Stuart Zone (stock)                  20\n",
      "Name: Awarded Entrance Code/Name, dtype: int64\n",
      "\n",
      "Awarded Group Size\n",
      "\n",
      "cleaning numeric!\n",
      "     54113\n",
      "4     1085\n",
      "2      769\n",
      "8      751\n",
      "6      599\n",
      "5      277\n",
      "3      221\n",
      "1       99\n",
      "7       38\n",
      "Name: Awarded Group Size, dtype: int64\n",
      "\n"
     ]
    }
   ],
   "source": [
    "for col in df.columns:\n",
    "    print(col)\n",
    "    print()\n",
    "    if 'Group Size' in col or 'Awarded Preference' in col:\n",
    "        print('cleaning numeric!')\n",
    "        df[col] = df[col].apply(clean_numeric)\n",
    "    if 'Division' in col or 'Entrance' in col:\n",
    "        print('cleaning zone names!')\n",
    "        df[col] = df[col].apply(clean_zone_name)\n",
    "    if 'Date' in col:\n",
    "        print('cleaning dates!')\n",
    "        df[col] = df[col].apply(clean_date)\n",
    "    print(df[col].value_counts())\n",
    "    print()"
   ]
  },
  {
   "cell_type": "code",
   "execution_count": 608,
   "metadata": {},
   "outputs": [],
   "source": [
    "df.to_csv('2021_enchantments_lottery_stats.csv')"
   ]
  },
  {
   "cell_type": "code",
   "execution_count": 609,
   "metadata": {},
   "outputs": [
    {
     "data": {
      "text/plain": [
       "Index(['Preferred Entry Date 1', 'Preferred Division 1',\n",
       "       'Minimum Acceptable Group Size 1', 'Maximum Requested Group Size 1',\n",
       "       'Preferred Entry Date 2', 'Preferred Division 2',\n",
       "       'Minimum Acceptable Group Size 2', 'Maximum Requested Group Size 2',\n",
       "       'Preferred Entry Date 3', 'Preferred Division 3',\n",
       "       'Minimum Acceptable Group Size 3', 'Maximum Requested Group Size 3',\n",
       "       'Results Status', 'Awarded Preference', 'Awarded Entry Date',\n",
       "       'Awarded Entrance Code/Name', 'Awarded Group Size'],\n",
       "      dtype='object')"
      ]
     },
     "execution_count": 609,
     "metadata": {},
     "output_type": "execute_result"
    }
   ],
   "source": [
    "df.columns"
   ]
  },
  {
   "cell_type": "code",
   "execution_count": 612,
   "metadata": {},
   "outputs": [],
   "source": [
    "df = df.reset_index()"
   ]
  },
  {
   "cell_type": "code",
   "execution_count": 613,
   "metadata": {},
   "outputs": [],
   "source": [
    "# minimum and maximum group size is the same...?!\n",
    "first_choice = ['Preferred Entry Date 1', 'Preferred Division 1',\n",
    "       'Minimum Acceptable Group Size 1']\n",
    "second_choice = ['Preferred Entry Date 2', 'Preferred Division 2',\n",
    "       'Minimum Acceptable Group Size 2']\n",
    "third_choice = ['Preferred Entry Date 3', 'Preferred Division 3',\n",
    "       'Minimum Acceptable Group Size 3']"
   ]
  },
  {
   "cell_type": "code",
   "execution_count": 614,
   "metadata": {},
   "outputs": [],
   "source": [
    "preferences = [df[first_choice], df[second_choice], df[third_choice]]"
   ]
  },
  {
   "cell_type": "code",
   "execution_count": 615,
   "metadata": {},
   "outputs": [
    {
     "name": "stderr",
     "output_type": "stream",
     "text": [
      "<ipython-input-615-e87a676c40f4>:2: SettingWithCopyWarning: \n",
      "A value is trying to be set on a copy of a slice from a DataFrame.\n",
      "Try using .loc[row_indexer,col_indexer] = value instead\n",
      "\n",
      "See the caveats in the documentation: https://pandas.pydata.org/pandas-docs/stable/user_guide/indexing.html#returning-a-view-versus-a-copy\n",
      "  d['Result'] = \"\"\n"
     ]
    }
   ],
   "source": [
    "for d in preferences:\n",
    "    d['Result'] = \"\""
   ]
  },
  {
   "cell_type": "code",
   "execution_count": 616,
   "metadata": {},
   "outputs": [
    {
     "data": {
      "text/html": [
       "<div>\n",
       "<style scoped>\n",
       "    .dataframe tbody tr th:only-of-type {\n",
       "        vertical-align: middle;\n",
       "    }\n",
       "\n",
       "    .dataframe tbody tr th {\n",
       "        vertical-align: top;\n",
       "    }\n",
       "\n",
       "    .dataframe thead th {\n",
       "        text-align: right;\n",
       "    }\n",
       "</style>\n",
       "<table border=\"1\" class=\"dataframe\">\n",
       "  <thead>\n",
       "    <tr style=\"text-align: right;\">\n",
       "      <th></th>\n",
       "      <th>Preferred Entry Date 1</th>\n",
       "      <th>Preferred Division 1</th>\n",
       "      <th>Minimum Acceptable Group Size 1</th>\n",
       "      <th>Result</th>\n",
       "    </tr>\n",
       "  </thead>\n",
       "  <tbody>\n",
       "    <tr>\n",
       "      <th>0</th>\n",
       "      <td>6/21/21</td>\n",
       "      <td>Colchuck Zone</td>\n",
       "      <td>2</td>\n",
       "      <td></td>\n",
       "    </tr>\n",
       "    <tr>\n",
       "      <th>1</th>\n",
       "      <td>8/31/21</td>\n",
       "      <td>Colchuck Zone</td>\n",
       "      <td>2</td>\n",
       "      <td></td>\n",
       "    </tr>\n",
       "    <tr>\n",
       "      <th>2</th>\n",
       "      <td>8/19/21</td>\n",
       "      <td>Colchuck Zone</td>\n",
       "      <td>4</td>\n",
       "      <td></td>\n",
       "    </tr>\n",
       "    <tr>\n",
       "      <th>3</th>\n",
       "      <td>8/12/21</td>\n",
       "      <td>Colchuck Zone</td>\n",
       "      <td>8</td>\n",
       "      <td></td>\n",
       "    </tr>\n",
       "    <tr>\n",
       "      <th>4</th>\n",
       "      <td>7/9/21</td>\n",
       "      <td>Colchuck Zone</td>\n",
       "      <td>4</td>\n",
       "      <td></td>\n",
       "    </tr>\n",
       "    <tr>\n",
       "      <th>...</th>\n",
       "      <td>...</td>\n",
       "      <td>...</td>\n",
       "      <td>...</td>\n",
       "      <td>...</td>\n",
       "    </tr>\n",
       "    <tr>\n",
       "      <th>57947</th>\n",
       "      <td>9/8/21</td>\n",
       "      <td>Stuart Zone (stock)</td>\n",
       "      <td>6</td>\n",
       "      <td></td>\n",
       "    </tr>\n",
       "    <tr>\n",
       "      <th>57948</th>\n",
       "      <td>9/27/21</td>\n",
       "      <td>Stuart Zone (stock)</td>\n",
       "      <td>2</td>\n",
       "      <td></td>\n",
       "    </tr>\n",
       "    <tr>\n",
       "      <th>57949</th>\n",
       "      <td>9/30/21</td>\n",
       "      <td>Stuart Zone (stock)</td>\n",
       "      <td>4</td>\n",
       "      <td></td>\n",
       "    </tr>\n",
       "    <tr>\n",
       "      <th>57950</th>\n",
       "      <td>10/7/21</td>\n",
       "      <td>Stuart Zone (stock)</td>\n",
       "      <td>4</td>\n",
       "      <td></td>\n",
       "    </tr>\n",
       "    <tr>\n",
       "      <th>57951</th>\n",
       "      <td>9/11/21</td>\n",
       "      <td>Stuart Zone (stock)</td>\n",
       "      <td>6</td>\n",
       "      <td></td>\n",
       "    </tr>\n",
       "  </tbody>\n",
       "</table>\n",
       "<p>57952 rows × 4 columns</p>\n",
       "</div>"
      ],
      "text/plain": [
       "      Preferred Entry Date 1 Preferred Division 1  \\\n",
       "0                    6/21/21        Colchuck Zone   \n",
       "1                    8/31/21        Colchuck Zone   \n",
       "2                    8/19/21        Colchuck Zone   \n",
       "3                    8/12/21        Colchuck Zone   \n",
       "4                     7/9/21        Colchuck Zone   \n",
       "...                      ...                  ...   \n",
       "57947                 9/8/21  Stuart Zone (stock)   \n",
       "57948                9/27/21  Stuart Zone (stock)   \n",
       "57949                9/30/21  Stuart Zone (stock)   \n",
       "57950                10/7/21  Stuart Zone (stock)   \n",
       "57951                9/11/21  Stuart Zone (stock)   \n",
       "\n",
       "      Minimum Acceptable Group Size 1 Result  \n",
       "0                                   2         \n",
       "1                                   2         \n",
       "2                                   4         \n",
       "3                                   8         \n",
       "4                                   4         \n",
       "...                               ...    ...  \n",
       "57947                               6         \n",
       "57948                               2         \n",
       "57949                               4         \n",
       "57950                               4         \n",
       "57951                               6         \n",
       "\n",
       "[57952 rows x 4 columns]"
      ]
     },
     "execution_count": 616,
     "metadata": {},
     "output_type": "execute_result"
    }
   ],
   "source": [
    "preferences[0]"
   ]
  },
  {
   "cell_type": "code",
   "execution_count": 617,
   "metadata": {},
   "outputs": [],
   "source": [
    "for index, preference in enumerate(df['Awarded Preference']):\n",
    "    if preference != '':\n",
    "#         print('index: ', index)\n",
    "        awarded_df = preferences[int(preference)-1]\n",
    "        awarded_df.at[index, 'Result'] = 1\n",
    "#         awarded_df.at[index, 'Results Status'] = df.iloc[index]['Results Status']"
   ]
  },
  {
   "cell_type": "code",
   "execution_count": 618,
   "metadata": {},
   "outputs": [
    {
     "data": {
      "text/html": [
       "<div>\n",
       "<style scoped>\n",
       "    .dataframe tbody tr th:only-of-type {\n",
       "        vertical-align: middle;\n",
       "    }\n",
       "\n",
       "    .dataframe tbody tr th {\n",
       "        vertical-align: top;\n",
       "    }\n",
       "\n",
       "    .dataframe thead th {\n",
       "        text-align: right;\n",
       "    }\n",
       "</style>\n",
       "<table border=\"1\" class=\"dataframe\">\n",
       "  <thead>\n",
       "    <tr style=\"text-align: right;\">\n",
       "      <th></th>\n",
       "      <th>Preferred Entry Date 2</th>\n",
       "      <th>Preferred Division 2</th>\n",
       "      <th>Minimum Acceptable Group Size 2</th>\n",
       "      <th>Result</th>\n",
       "    </tr>\n",
       "  </thead>\n",
       "  <tbody>\n",
       "    <tr>\n",
       "      <th>0</th>\n",
       "      <td>6/28/21</td>\n",
       "      <td>Colchuck Zone</td>\n",
       "      <td>2</td>\n",
       "      <td></td>\n",
       "    </tr>\n",
       "    <tr>\n",
       "      <th>1</th>\n",
       "      <td>9/1/21</td>\n",
       "      <td>Colchuck Zone</td>\n",
       "      <td>2</td>\n",
       "      <td></td>\n",
       "    </tr>\n",
       "    <tr>\n",
       "      <th>2</th>\n",
       "      <td>8/19/21</td>\n",
       "      <td>Core Enchantment Zone</td>\n",
       "      <td>4</td>\n",
       "      <td></td>\n",
       "    </tr>\n",
       "    <tr>\n",
       "      <th>3</th>\n",
       "      <td>8/19/21</td>\n",
       "      <td>Colchuck Zone</td>\n",
       "      <td>8</td>\n",
       "      <td></td>\n",
       "    </tr>\n",
       "    <tr>\n",
       "      <th>4</th>\n",
       "      <td>7/9/21</td>\n",
       "      <td>Snow Zone</td>\n",
       "      <td>4</td>\n",
       "      <td></td>\n",
       "    </tr>\n",
       "    <tr>\n",
       "      <th>...</th>\n",
       "      <td>...</td>\n",
       "      <td>...</td>\n",
       "      <td>...</td>\n",
       "      <td>...</td>\n",
       "    </tr>\n",
       "    <tr>\n",
       "      <th>63</th>\n",
       "      <td>8/26/21</td>\n",
       "      <td>Colchuck Zone</td>\n",
       "      <td>2</td>\n",
       "      <td></td>\n",
       "    </tr>\n",
       "    <tr>\n",
       "      <th>64</th>\n",
       "      <td>9/24/21</td>\n",
       "      <td>Colchuck Zone</td>\n",
       "      <td>4</td>\n",
       "      <td></td>\n",
       "    </tr>\n",
       "    <tr>\n",
       "      <th>65</th>\n",
       "      <td>7/3/21</td>\n",
       "      <td>Core Enchantment Zone</td>\n",
       "      <td>4</td>\n",
       "      <td></td>\n",
       "    </tr>\n",
       "    <tr>\n",
       "      <th>66</th>\n",
       "      <td>7/19/21</td>\n",
       "      <td>Core Enchantment Zone</td>\n",
       "      <td>4</td>\n",
       "      <td></td>\n",
       "    </tr>\n",
       "    <tr>\n",
       "      <th>67</th>\n",
       "      <td>8/9/21</td>\n",
       "      <td>Colchuck Zone</td>\n",
       "      <td>3</td>\n",
       "      <td>1</td>\n",
       "    </tr>\n",
       "  </tbody>\n",
       "</table>\n",
       "<p>68 rows × 4 columns</p>\n",
       "</div>"
      ],
      "text/plain": [
       "   Preferred Entry Date 2   Preferred Division 2  \\\n",
       "0                 6/28/21          Colchuck Zone   \n",
       "1                  9/1/21          Colchuck Zone   \n",
       "2                 8/19/21  Core Enchantment Zone   \n",
       "3                 8/19/21          Colchuck Zone   \n",
       "4                  7/9/21              Snow Zone   \n",
       "..                    ...                    ...   \n",
       "63                8/26/21          Colchuck Zone   \n",
       "64                9/24/21          Colchuck Zone   \n",
       "65                 7/3/21  Core Enchantment Zone   \n",
       "66                7/19/21  Core Enchantment Zone   \n",
       "67                 8/9/21          Colchuck Zone   \n",
       "\n",
       "   Minimum Acceptable Group Size 2 Result  \n",
       "0                                2         \n",
       "1                                2         \n",
       "2                                4         \n",
       "3                                8         \n",
       "4                                4         \n",
       "..                             ...    ...  \n",
       "63                               2         \n",
       "64                               4         \n",
       "65                               4         \n",
       "66                               4         \n",
       "67                               3      1  \n",
       "\n",
       "[68 rows x 4 columns]"
      ]
     },
     "execution_count": 618,
     "metadata": {},
     "output_type": "execute_result"
    }
   ],
   "source": [
    "preferences[1].head(68)"
   ]
  },
  {
   "cell_type": "code",
   "execution_count": 619,
   "metadata": {},
   "outputs": [],
   "source": [
    "for d in preferences:\n",
    "    d.columns = ['Preferred Entry Date', 'Preferred Zone', 'Group Size', 'Result']"
   ]
  },
  {
   "cell_type": "code",
   "execution_count": 646,
   "metadata": {},
   "outputs": [],
   "source": [
    "clean_df = pd.concat(preferences)"
   ]
  },
  {
   "cell_type": "code",
   "execution_count": 648,
   "metadata": {},
   "outputs": [],
   "source": [
    "clean_df['Preferred Entry Date'] = pd.to_datetime(clean_df['Preferred Entry Date'])"
   ]
  },
  {
   "cell_type": "code",
   "execution_count": 657,
   "metadata": {},
   "outputs": [],
   "source": [
    "clean_df['Day of Week'] = clean_df['Preferred Entry Date'].dt.day_name()"
   ]
  },
  {
   "cell_type": "code",
   "execution_count": 663,
   "metadata": {},
   "outputs": [],
   "source": [
    "clean_df['Month'] = clean_df['Preferred Entry Date'].dt.month_name()"
   ]
  },
  {
   "cell_type": "code",
   "execution_count": 665,
   "metadata": {},
   "outputs": [],
   "source": [
    "clean_df['Day of Year'] = clean_df['Preferred Entry Date'].dt.dayofyear"
   ]
  },
  {
   "cell_type": "code",
   "execution_count": 683,
   "metadata": {},
   "outputs": [
    {
     "data": {
      "text/plain": [
       "(173856, 7)"
      ]
     },
     "execution_count": 683,
     "metadata": {},
     "output_type": "execute_result"
    }
   ],
   "source": [
    "clean_df.shape"
   ]
  },
  {
   "cell_type": "code",
   "execution_count": 684,
   "metadata": {},
   "outputs": [],
   "source": [
    "# sometimes people don't put in a 2nd or 3rd preference\n",
    "clean_df.dropna(inplace=True)"
   ]
  },
  {
   "cell_type": "code",
   "execution_count": 685,
   "metadata": {},
   "outputs": [
    {
     "data": {
      "text/plain": [
       "(171560, 7)"
      ]
     },
     "execution_count": 685,
     "metadata": {},
     "output_type": "execute_result"
    }
   ],
   "source": [
    "clean_df.shape"
   ]
  },
  {
   "cell_type": "code",
   "execution_count": 686,
   "metadata": {},
   "outputs": [],
   "source": [
    "clean_df.to_csv('modeling_enchantments_data.csv', index=False)"
   ]
  }
 ],
 "metadata": {
  "kernelspec": {
   "display_name": "Python 3",
   "language": "python",
   "name": "python3"
  },
  "language_info": {
   "codemirror_mode": {
    "name": "ipython",
    "version": 3
   },
   "file_extension": ".py",
   "mimetype": "text/x-python",
   "name": "python",
   "nbconvert_exporter": "python",
   "pygments_lexer": "ipython3",
   "version": "3.8.3"
  }
 },
 "nbformat": 4,
 "nbformat_minor": 4
}
